{
  "cells": [
    {
      "cell_type": "markdown",
      "metadata": {
        "id": "view-in-github",
        "colab_type": "text"
      },
      "source": [
        "<a href=\"https://colab.research.google.com/github/Dave1475/TTS/blob/dev/OpenVoice_colab.ipynb\" target=\"_parent\"><img src=\"https://colab.research.google.com/assets/colab-badge.svg\" alt=\"Open In Colab\"/></a>"
      ]
    },
    {
      "cell_type": "code",
      "execution_count": null,
      "metadata": {
        "id": "VjYy0F2gZIPR"
      },
      "outputs": [],
      "source": [
        "%cd /content\n",
        "!git clone -b dev https://github.com/camenduru/OpenVoice\n",
        "%cd /content/OpenVoice\n",
        "\n",
        "!apt -y install -qq aria2\n",
        "!aria2c --console-log-level=error -c -x 16 -s 16 -k 1M https://huggingface.co/camenduru/OpenVoice/resolve/main/checkpoints_1226.zip -d /content -o checkpoints_1226.zip\n",
        "!unzip /content/checkpoints_1226.zip\n",
        "\n",
        "!pip install -q gradio==3.50.2 langid faster-whisper whisper-timestamped unidecode eng-to-ipa pypinyin cn2an\n",
        "\n"
      ]
    },
    {
      "cell_type": "code",
      "source": [
        "from google.colab.output import eval_js\n",
        "print(eval_js(\"google.colab.kernel.proxyPort(8000)\"))"
      ],
      "metadata": {
        "id": "lz7j7p_iFm3i"
      },
      "execution_count": null,
      "outputs": []
    },
    {
      "cell_type": "code",
      "source": [
        "from flask import Flask, request, send_file\n",
        "import torch\n",
        "import langid\n",
        "from openvoice import se_extractor\n",
        "from openvoice.api import BaseSpeakerTTS, ToneColorConverter\n",
        "import os\n",
        "import io\n",
        "\n",
        "app = Flask(__name__)\n",
        "\n",
        "# Initialize paths and device\n",
        "en_ckpt_base = 'checkpoints/base_speakers/EN'\n",
        "zh_ckpt_base = 'checkpoints/base_speakers/ZH'\n",
        "ckpt_converter = 'checkpoints/converter'\n",
        "device = 'cuda' if torch.cuda.is_available() else 'cpu'\n",
        "output_dir = 'outputs'\n",
        "os.makedirs(output_dir, exist_ok=True)\n",
        "\n",
        "# Load models\n",
        "en_base_speaker_tts = BaseSpeakerTTS(f'{en_ckpt_base}/config.json', device=device)\n",
        "en_base_speaker_tts.load_ckpt(f'{en_ckpt_base}/checkpoint.pth')\n",
        "zh_base_speaker_tts = BaseSpeakerTTS(f'{zh_ckpt_base}/config.json', device=device)\n",
        "zh_base_speaker_tts.load_ckpt(f'{zh_ckpt_base}/checkpoint.pth')\n",
        "tone_color_converter = ToneColorConverter(f'{ckpt_converter}/config.json', device=device)\n",
        "tone_color_converter.load_ckpt(f'{ckpt_converter}/checkpoint.pth')\n",
        "\n",
        "# Load speaker embeddings\n",
        "en_source_default_se = torch.load(f'{en_ckpt_base}/en_default_se.pth').to(device)\n",
        "en_source_style_se = torch.load(f'{en_ckpt_base}/en_style_se.pth').to(device)\n",
        "zh_source_se = torch.load(f'{zh_ckpt_base}/zh_default_se.pth').to(device)\n",
        "\n",
        "# Reference audio path - Replace with your actual reference audio path\n",
        "REFERENCE_AUDIO = \"resources/demo_speaker2.mp3\"\n",
        "\n",
        "# Supported languages\n",
        "supported_languages = ['zh', 'en']\n",
        "\n",
        "def generate_speech(text, style='default'):\n",
        "    \"\"\"\n",
        "    Generate speech from text using OpenVoice\n",
        "    \"\"\"\n",
        "    # Detect language\n",
        "    language_predicted = langid.classify(text)[0].strip()\n",
        "\n",
        "    if language_predicted not in supported_languages:\n",
        "        raise ValueError(f\"Unsupported language: {language_predicted}\")\n",
        "\n",
        "    # Select appropriate model and settings based on language\n",
        "    if language_predicted == \"zh\":\n",
        "        tts_model = zh_base_speaker_tts\n",
        "        source_se = zh_source_se\n",
        "        language = 'Chinese'\n",
        "        if style != 'default':\n",
        "            raise ValueError(\"Only 'default' style is supported for Chinese\")\n",
        "    else:\n",
        "        tts_model = en_base_speaker_tts\n",
        "        source_se = en_source_default_se if style == 'default' else en_source_style_se\n",
        "        language = 'English'\n",
        "        valid_styles = ['default', 'whispering', 'shouting', 'excited',\n",
        "                       'cheerful', 'terrified', 'angry', 'sad', 'friendly']\n",
        "        if style not in valid_styles:\n",
        "            raise ValueError(f\"Invalid style for English. Must be one of: {valid_styles}\")\n",
        "\n",
        "    # Generate target speaker embedding\n",
        "    target_se, _ = se_extractor.get_se(REFERENCE_AUDIO, tone_color_converter,\n",
        "                                      target_dir='processed', vad=True)\n",
        "\n",
        "    # Generate initial speech\n",
        "    src_path = f'{output_dir}/tmp.wav'\n",
        "    tts_model.tts(text, src_path, speaker=style, language=language)\n",
        "\n",
        "    # Convert tone color\n",
        "    output_path = f'{output_dir}/output.wav'\n",
        "    tone_color_converter.convert(\n",
        "        audio_src_path=src_path,\n",
        "        src_se=source_se,\n",
        "        tgt_se=target_se,\n",
        "        output_path=output_path,\n",
        "        message=\"@MyShell\"\n",
        "    )\n",
        "\n",
        "    return output_path\n",
        "\n",
        "@app.route('/tts')\n",
        "def text_to_speech():\n",
        "    \"\"\"\n",
        "    Endpoint for text-to-speech conversion\n",
        "    Usage: /tts?text=hello&style=default\n",
        "    \"\"\"\n",
        "    try:\n",
        "        # Get parameters\n",
        "        text = request.args.get('text')\n",
        "        style = request.args.get('style', 'default')\n",
        "\n",
        "        if not text:\n",
        "            return \"No text provided\", 400\n",
        "\n",
        "        if len(text) > 900:\n",
        "            return \"Text length limited to 200 characters\", 400\n",
        "\n",
        "        # Generate speech\n",
        "        output_path = generate_speech(text, style)\n",
        "\n",
        "        # Return the audio file\n",
        "        return send_file(\n",
        "            output_path,\n",
        "            mimetype=\"audio/wav\",\n",
        "        )\n",
        "\n",
        "    except ValueError as e:\n",
        "        return str(e), 400\n",
        "    except Exception as e:\n",
        "        return f\"Error generating speech: {str(e)}\", 500\n",
        "\n",
        "if __name__ == '__main__':\n",
        "    app.run(host='0.0.0.0', port=8000, debug=True)\n"
      ],
      "metadata": {
        "id": "T5HbWsqWElxG"
      },
      "execution_count": null,
      "outputs": []
    }
  ],
  "metadata": {
    "accelerator": "GPU",
    "colab": {
      "gpuType": "T4",
      "provenance": [],
      "include_colab_link": true
    },
    "kernelspec": {
      "display_name": "Python 3",
      "name": "python3"
    },
    "language_info": {
      "name": "python"
    }
  },
  "nbformat": 4,
  "nbformat_minor": 0
}